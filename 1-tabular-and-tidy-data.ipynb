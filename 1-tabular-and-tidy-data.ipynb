{
 "cells": [
  {
   "cell_type": "markdown",
   "id": "6bbdfdb2",
   "metadata": {},
   "source": [
    "# Tabular Data and Python Data Structures"
   ]
  },
  {
   "cell_type": "markdown",
   "id": "b84342a1",
   "metadata": {},
   "source": [
    "### Data Types\n"
   ]
  },
  {
   "cell_type": "markdown",
   "id": "1e0bdda9",
   "metadata": {},
   "source": [
    "There are lots of different types of data in the world, and Python groups that data into several categories.\n",
    "\n",
    "**Boolean** (`bool`)**:** \n",
    "- Any data which can be expressed as either `True` or `False`.\n",
    "- Used when comparing two values. For example, if you enter `10 > 9`, Python will return `True`.\n",
    "\n",
    "**String** (`str`)**:**\n",
    "\n",
    "- Data that involves text — either letters, numbers, or special characters. \n",
    "- Strings are enclosed in either single- or double-quotation marks: `\"string-1\"` or `'string-2'`.\n",
    "\n",
    "**Numeric** (`int`, `float`, `complex`)**:**\n",
    "\n",
    "- Data that can be expressed numerically.\n",
    "- An integer, or `int`, is a whole number, positive or negative, without decimals, of unlimited length:  `123`.\n",
    "- A floating-point number, or `float`, is a number, positive or negative, containing one or more decimals: `123.01`.\n",
    "- A complex number, or `complex`, are imaginary numbers, designated by a `j`: `(3 + 6j)`.\n",
    "\n",
    "**Sequence** (`list`, `tuple`, `set`)**:**\n",
    "\n",
    "- Data that is a collection of discrete items.\n",
    "- A `list` is collection that is ordered and changeable. It's designated using square brackets `[]`, and items can be of different data types: `[\"red\", 1, 1.03, 1]`.\n",
    "- A `tuple` is a collection which is ordered and unchangeable. It's designated using parentheses `()`: `(\"red\", 1, 1.03, 1)`.\n",
    "- A `set` is a collection which is unordered, unchangeable, and does not permit duplicate items. It's designated using curly brackets `{}`: `{\"red\", 1, 1.03}`.\n",
    "\n",
    "**Mapping** (`dict`)**:** \n",
    "- Dictionaries store data in *key-value* pairs. They're designated using curly brackets `{}`, like a `set`, but notice that keys and values are associated with each other using a colon `:`. Each pair is separated from the next using a comma `,`.\n",
    "\n",
    "```python\n",
    "dict1 = {\n",
    "    \"department\": \"quindio\", \n",
    "    \"property_type\": \"house\", \n",
    "    \"price_usd\": 330899.98\n",
    "}\n",
    "```\n",
    "\n",
    "**Binary** (`bytes`, `bytearray`, `memoryview`)**:**\n",
    "- Used to manipulate and display binary data. That is, data that can be expressed with integers represented with base 2.\n",
    "- Unlike the other data types described above, `binary` types are not human-readable."
   ]
  },
  {
   "cell_type": "markdown",
   "id": "3abf491f",
   "metadata": {},
   "source": [
    "<img src=\"images/Screenshot_67.png\" alt=\"Example Image\" width=\"300\">"
   ]
  },
  {
   "cell_type": "markdown",
   "id": "b7f8ce5f",
   "metadata": {},
   "source": [
    "# Tabular Data and Python Data Structures\n",
    "## Working with Lists\n",
    "\n",
    "Python comes with several data structures that we can use to organize tabular data. Let's start by putting a single observation in a **list**.\n"
   ]
  },
  {
   "cell_type": "code",
   "execution_count": 1,
   "id": "2d844436",
   "metadata": {},
   "outputs": [
    {
     "data": {
      "text/plain": [
       "[115910.26, 128, 4]"
      ]
     },
     "execution_count": 1,
     "metadata": {},
     "output_type": "execute_result"
    }
   ],
   "source": [
    "house_0_list = [115910.26, 128, 4]\n",
    "house_0_list"
   ]
  },
  {
   "cell_type": "markdown",
   "id": "634e4ab4",
   "metadata": {},
   "source": [
    "**Task 1.1.1:** One metric that people in the real estate industry look at is price per square meter because it allows them to compare houses of different sizes. Can you use the information in this list to calculate the price per square meter for `house_0`?"
   ]
  },
  {
   "cell_type": "code",
   "execution_count": 2,
   "id": "f104497d",
   "metadata": {},
   "outputs": [
    {
     "data": {
      "text/plain": [
       "905.54890625"
      ]
     },
     "execution_count": 2,
     "metadata": {},
     "output_type": "execute_result"
    }
   ],
   "source": [
    "house_0_price_m2 = house_0_list[0]/house_0_list[1]\n",
    "house_0_price_m2"
   ]
  },
  {
   "cell_type": "markdown",
   "id": "1fe48680",
   "metadata": {},
   "source": [
    "**Task 1.1.2:** Next, use the append method to add the price per square meter to the end of the end of `house_0`."
   ]
  },
  {
   "cell_type": "code",
   "execution_count": 3,
   "id": "24331c16",
   "metadata": {},
   "outputs": [
    {
     "data": {
      "text/plain": [
       "[115910.26, 128, 4, 905.54890625]"
      ]
     },
     "execution_count": 3,
     "metadata": {},
     "output_type": "execute_result"
    }
   ],
   "source": [
    "house_0_list.append(house_0_price_m2)\n",
    "house_0_list"
   ]
  },
  {
   "cell_type": "markdown",
   "id": "213b68a0",
   "metadata": {},
   "source": [
    "Now that you can work with data for a single house, let's think about how to organize the whole dataset. One option would be to create a list for each observation and then put those together in another list. This is called a [**nested list**]"
   ]
  },
  {
   "cell_type": "code",
   "execution_count": 4,
   "id": "bfa37470",
   "metadata": {},
   "outputs": [
    {
     "data": {
      "text/plain": [
       "[[115910.26, 128.0, 4.0],\n",
       " [48718.17, 210.0, 3.0],\n",
       " [28977.56, 58.0, 2.0],\n",
       " [36932.27, 79.0, 3.0],\n",
       " [83903.51, 111.0, 3.0]]"
      ]
     },
     "execution_count": 4,
     "metadata": {},
     "output_type": "execute_result"
    }
   ],
   "source": [
    "houses_nested_list = [\n",
    "    [115910.26, 128.0, 4.0],\n",
    "    [48718.17, 210.0, 3.0],\n",
    "    [28977.56, 58.0, 2.0],\n",
    "    [36932.27, 79.0, 3.0],\n",
    "    [83903.51, 111.0, 3.0],\n",
    "]\n",
    "\n",
    "houses_nested_list"
   ]
  },
  {
   "cell_type": "markdown",
   "id": "c5a66513",
   "metadata": {},
   "source": [
    "**Task 1.1.3:** Append the price per square meter to each observation in `houses_nested_list` using a `for` loop."
   ]
  },
  {
   "cell_type": "code",
   "execution_count": 5,
   "id": "0a97dc00",
   "metadata": {},
   "outputs": [
    {
     "data": {
      "text/plain": [
       "[[115910.26, 128.0, 4.0, 905.54890625],\n",
       " [48718.17, 210.0, 3.0, 231.9912857142857],\n",
       " [28977.56, 58.0, 2.0, 499.61310344827587],\n",
       " [36932.27, 79.0, 3.0, 467.4970886075949],\n",
       " [83903.51, 111.0, 3.0, 755.8874774774774]]"
      ]
     },
     "execution_count": 5,
     "metadata": {},
     "output_type": "execute_result"
    }
   ],
   "source": [
    "for house in houses_nested_list:\n",
    "    price_m2=house[0]/house[1]\n",
    "    house.append(price_m2)\n",
    "houses_nested_list"
   ]
  },
  {
   "cell_type": "markdown",
   "id": "38ea5664",
   "metadata": {},
   "source": [
    "## Working with a dictionary\n",
    "\n",
    "Lists are a good way to organize data, but one drawback is that we can only represent values. Why is that a problem? For example, someone looking at `[115910.26, 128.0, 4]` wouldn't know which values corresponded to price, area, etc. A better option might be a **`dictionary`** , where each value is associated with a key. Here's what `house_0` looks like as a dictionary instead of a list"
   ]
  },
  {
   "cell_type": "code",
   "execution_count": 6,
   "id": "c5903e2a",
   "metadata": {},
   "outputs": [
    {
     "data": {
      "text/plain": [
       "{'price_aprox_usd': 115910.26, 'surface_covered_in_m2': 128, 'rooms': 4}"
      ]
     },
     "execution_count": 6,
     "metadata": {},
     "output_type": "execute_result"
    }
   ],
   "source": [
    "house_0_dict = {\n",
    "    \"price_aprox_usd\": 115910.26,\n",
    "    \"surface_covered_in_m2\": 128,\n",
    "    \"rooms\": 4,\n",
    "}\n",
    "\n",
    "house_0_dict"
   ]
  },
  {
   "cell_type": "markdown",
   "id": "333d8f0a",
   "metadata": {},
   "source": [
    "**Task 1.1.4:** Calculate the price per square meter for `house_0` and add it to the dictionary under the key `\"price_per_m2\"`.\n"
   ]
  },
  {
   "cell_type": "code",
   "execution_count": 7,
   "id": "5570baf0",
   "metadata": {},
   "outputs": [
    {
     "data": {
      "text/plain": [
       "{'price_aprox_usd': 115910.26,\n",
       " 'surface_covered_in_m2': 128,\n",
       " 'rooms': 4,\n",
       " 'price_per_m2': 905.54890625}"
      ]
     },
     "execution_count": 7,
     "metadata": {},
     "output_type": "execute_result"
    }
   ],
   "source": [
    "house_0_dict[\"price_per_m2\"] = house_0_dict[\"price_aprox_usd\"]/house_0_dict[\"surface_covered_in_m2\"]\n",
    "house_0_dict"
   ]
  },
  {
   "cell_type": "markdown",
   "id": "8749de20",
   "metadata": {},
   "source": [
    "If we wanted to combine all our observations together, the best way would be to create a **`list of dictionaries`**."
   ]
  },
  {
   "cell_type": "code",
   "execution_count": 8,
   "id": "fc2feafb",
   "metadata": {},
   "outputs": [
    {
     "data": {
      "text/plain": [
       "[{'price_aprox_usd': 115910.26, 'surface_covered_in_m2': 128, 'rooms': 4},\n",
       " {'price_aprox_usd': 48718.17, 'surface_covered_in_m2': 210, 'rooms': 3},\n",
       " {'price_aprox_usd': 28977.56, 'surface_covered_in_m2': 58, 'rooms': 2},\n",
       " {'price_aprox_usd': 36932.27, 'surface_covered_in_m2': 79, 'rooms': 3},\n",
       " {'price_aprox_usd': 83903.51, 'surface_covered_in_m2': 111, 'rooms': 3}]"
      ]
     },
     "execution_count": 8,
     "metadata": {},
     "output_type": "execute_result"
    }
   ],
   "source": [
    "houses_rowwise = [\n",
    "    {\n",
    "        \"price_aprox_usd\": 115910.26,\n",
    "        \"surface_covered_in_m2\": 128,\n",
    "        \"rooms\": 4,\n",
    "    },\n",
    "    {\n",
    "        \"price_aprox_usd\": 48718.17,\n",
    "        \"surface_covered_in_m2\": 210,\n",
    "        \"rooms\": 3,\n",
    "    },\n",
    "    {\n",
    "        \"price_aprox_usd\": 28977.56,\n",
    "        \"surface_covered_in_m2\": 58,\n",
    "        \"rooms\": 2,\n",
    "    },\n",
    "    {\n",
    "        \"price_aprox_usd\": 36932.27,\n",
    "        \"surface_covered_in_m2\": 79,\n",
    "        \"rooms\": 3,\n",
    "    },\n",
    "    {\n",
    "        \"price_aprox_usd\": 83903.51,\n",
    "        \"surface_covered_in_m2\": 111,\n",
    "        \"rooms\": 3,\n",
    "    },\n",
    "]\n",
    "\n",
    "houses_rowwise"
   ]
  },
  {
   "cell_type": "markdown",
   "id": "ba04cd0d",
   "metadata": {},
   "source": [
    "This way of storing data is so popular, it has its own name: **`JSON`**. We'll learn more about it later in the course. For now, let's build another for loop, but this time, we'll add a add the price per square meter to each dictionary."
   ]
  },
  {
   "cell_type": "markdown",
   "id": "3ae3f10b",
   "metadata": {},
   "source": [
    "**Task 1.1.5:** Using a `for` loop, calculate the price per square meter and store the result under a `\"price_per_m2\"` key for each observation in `houses_rowwise`."
   ]
  },
  {
   "cell_type": "code",
   "execution_count": 9,
   "id": "3b68f284",
   "metadata": {},
   "outputs": [
    {
     "data": {
      "text/plain": [
       "[{'price_aprox_usd': 115910.26,\n",
       "  'surface_covered_in_m2': 128,\n",
       "  'rooms': 4,\n",
       "  'price_per_m2': 905.54890625},\n",
       " {'price_aprox_usd': 48718.17,\n",
       "  'surface_covered_in_m2': 210,\n",
       "  'rooms': 3,\n",
       "  'price_per_m2': 231.9912857142857},\n",
       " {'price_aprox_usd': 28977.56,\n",
       "  'surface_covered_in_m2': 58,\n",
       "  'rooms': 2,\n",
       "  'price_per_m2': 499.61310344827587},\n",
       " {'price_aprox_usd': 36932.27,\n",
       "  'surface_covered_in_m2': 79,\n",
       "  'rooms': 3,\n",
       "  'price_per_m2': 467.4970886075949},\n",
       " {'price_aprox_usd': 83903.51,\n",
       "  'surface_covered_in_m2': 111,\n",
       "  'rooms': 3,\n",
       "  'price_per_m2': 755.8874774774774}]"
      ]
     },
     "execution_count": 9,
     "metadata": {},
     "output_type": "execute_result"
    }
   ],
   "source": [
    "for house in houses_rowwise:\n",
    "    house[\"price_per_m2\"] = house[\"price_aprox_usd\"]/house[\"surface_covered_in_m2\"]\n",
    "houses_rowwise"
   ]
  },
  {
   "cell_type": "markdown",
   "id": "a783f303",
   "metadata": {},
   "source": [
    "**`JSON`** is a great way to organize data, but it does have some downsides. Note that each dictionary represents a single house or, if we think about it as tabular data, a row in our dataset. This means that it's pretty easy to do row-wise calculations (like we did with price per square meter), but column-wise calculations are more complicated. For instance, what if we wanted to know the mean house price for our dataset? First we'd need to collect the price for each house in a list and then calculate mean. "
   ]
  },
  {
   "cell_type": "markdown",
   "id": "31d7fc0d",
   "metadata": {},
   "source": [
    "**Task 1.1.6:** To calculate the mean price for `houses_rowwise` by completing the code below."
   ]
  },
  {
   "cell_type": "code",
   "execution_count": 10,
   "id": "75da00ed",
   "metadata": {},
   "outputs": [
    {
     "data": {
      "text/plain": [
       "62888.35399999999"
      ]
     },
     "execution_count": 10,
     "metadata": {},
     "output_type": "execute_result"
    }
   ],
   "source": [
    "house_prices = []\n",
    "for house in houses_rowwise:\n",
    "    house_prices.append(house[\"price_aprox_usd\"])\n",
    "house_prices    \n",
    "mean_house_price = sum(house_prices) / len(house_prices)\n",
    "mean_house_price"
   ]
  },
  {
   "cell_type": "markdown",
   "id": "613b01d7",
   "metadata": {},
   "source": [
    "One way to make this sort of calculation easier is to organize our data by features instead of observations. We'll still use dictionaries and lists, but we'll implement them a slightly differently."
   ]
  },
  {
   "cell_type": "code",
   "execution_count": 11,
   "id": "f35d6f1e",
   "metadata": {},
   "outputs": [
    {
     "data": {
      "text/plain": [
       "{'price_aprox_usd': [115910.26, 48718.17, 28977.56, 36932.27, 83903.51],\n",
       " 'surface_covered_in_m2': [128.0, 210.0, 58.0, 79.0, 111.0],\n",
       " 'rooms': [4.0, 3.0, 2.0, 3.0, 3.0]}"
      ]
     },
     "execution_count": 11,
     "metadata": {},
     "output_type": "execute_result"
    }
   ],
   "source": [
    "houses_columnwise = {\n",
    "    \"price_aprox_usd\": [115910.26, 48718.17, 28977.56, 36932.27, 83903.51],\n",
    "    \"surface_covered_in_m2\": [128.0, 210.0, 58.0, 79.0, 111.0],\n",
    "    \"rooms\": [4.0, 3.0, 2.0, 3.0, 3.0],\n",
    "}\n",
    "\n",
    "houses_columnwise"
   ]
  },
  {
   "cell_type": "markdown",
   "id": "dfc0cb2e",
   "metadata": {},
   "source": [
    "**Task 1.1.7:** Calculate the mean house price in `houses_columnwise`"
   ]
  },
  {
   "cell_type": "code",
   "execution_count": 12,
   "id": "1261d2aa",
   "metadata": {},
   "outputs": [
    {
     "data": {
      "text/plain": [
       "62888.35399999999"
      ]
     },
     "execution_count": 12,
     "metadata": {},
     "output_type": "execute_result"
    }
   ],
   "source": [
    "mean_house_price = sum(houses_columnwise[\"price_aprox_usd\"])/len(houses_columnwise[\"price_aprox_usd\"])\n",
    "\n",
    "mean_house_price"
   ]
  },
  {
   "cell_type": "markdown",
   "id": "f1781e57",
   "metadata": {},
   "source": [
    "Of course, when we organize our data according to columns / features, row-wise operations become more difficult. "
   ]
  },
  {
   "cell_type": "markdown",
   "id": "2b7c3c51",
   "metadata": {},
   "source": [
    "**Task 1.1.8:** Create a `\"price_per_m2\"` column in `houses_columnwise`?"
   ]
  },
  {
   "cell_type": "code",
   "execution_count": 13,
   "id": "cb74702b",
   "metadata": {},
   "outputs": [
    {
     "data": {
      "text/plain": [
       "{'price_aprox_usd': [115910.26, 48718.17, 28977.56, 36932.27, 83903.51],\n",
       " 'surface_covered_in_m2': [128.0, 210.0, 58.0, 79.0, 111.0],\n",
       " 'rooms': [4.0, 3.0, 2.0, 3.0, 3.0],\n",
       " 'price_per_m2': [905.54890625,\n",
       "  231.9912857142857,\n",
       "  499.61310344827587,\n",
       "  467.4970886075949,\n",
       "  755.8874774774774]}"
      ]
     },
     "execution_count": 13,
     "metadata": {},
     "output_type": "execute_result"
    }
   ],
   "source": [
    "price=houses_columnwise[\"price_aprox_usd\"]\n",
    "area=houses_columnwise[\"surface_covered_in_m2\"]\n",
    "price_per_m2=[]\n",
    "for p,a in zip(price,area):\n",
    "    price_m2=p/a\n",
    "    price_per_m2.append(price_m2)\n",
    "    houses_columnwise[\"price_per_m2\"]=price_per_m2\n",
    "houses_columnwise"
   ]
  },
  {
   "cell_type": "markdown",
   "id": "b90f00ac",
   "metadata": {},
   "source": [
    "# Tabular Data and pandas DataFrames"
   ]
  },
  {
   "cell_type": "markdown",
   "id": "a4ca6271",
   "metadata": {},
   "source": [
    "While you've shown that you can wrangle data using lists and dictionaries, it's not as intuitive as working with, say, a spreadsheet. Fortunately, there are lots of libraries for Python that make it an even better tool for tabular data — way better than spreadsheet applications like Microsoft Excel or Google Sheets! One of the best known data science libraries is **pandas**, which allows you to organize data into **DataFrames**.\n",
    "\n",
    "Let's import pandas and then create a DataFrame from `houses_columnwise`. "
   ]
  },
  {
   "cell_type": "code",
   "execution_count": 2,
   "id": "f549e143",
   "metadata": {},
   "outputs": [
    {
     "data": {
      "text/html": [
       "<div>\n",
       "<style scoped>\n",
       "    .dataframe tbody tr th:only-of-type {\n",
       "        vertical-align: middle;\n",
       "    }\n",
       "\n",
       "    .dataframe tbody tr th {\n",
       "        vertical-align: top;\n",
       "    }\n",
       "\n",
       "    .dataframe thead th {\n",
       "        text-align: right;\n",
       "    }\n",
       "</style>\n",
       "<table border=\"1\" class=\"dataframe\">\n",
       "  <thead>\n",
       "    <tr style=\"text-align: right;\">\n",
       "      <th></th>\n",
       "      <th>price_aprox_usd</th>\n",
       "      <th>surface_covered_in_m2</th>\n",
       "      <th>rooms</th>\n",
       "    </tr>\n",
       "  </thead>\n",
       "  <tbody>\n",
       "    <tr>\n",
       "      <th>0</th>\n",
       "      <td>115910.26</td>\n",
       "      <td>128.0</td>\n",
       "      <td>4.0</td>\n",
       "    </tr>\n",
       "    <tr>\n",
       "      <th>1</th>\n",
       "      <td>48718.17</td>\n",
       "      <td>210.0</td>\n",
       "      <td>3.0</td>\n",
       "    </tr>\n",
       "    <tr>\n",
       "      <th>2</th>\n",
       "      <td>28977.56</td>\n",
       "      <td>58.0</td>\n",
       "      <td>2.0</td>\n",
       "    </tr>\n",
       "    <tr>\n",
       "      <th>3</th>\n",
       "      <td>36932.27</td>\n",
       "      <td>79.0</td>\n",
       "      <td>3.0</td>\n",
       "    </tr>\n",
       "    <tr>\n",
       "      <th>4</th>\n",
       "      <td>83903.51</td>\n",
       "      <td>111.0</td>\n",
       "      <td>3.0</td>\n",
       "    </tr>\n",
       "  </tbody>\n",
       "</table>\n",
       "</div>"
      ],
      "text/plain": [
       "   price_aprox_usd  surface_covered_in_m2  rooms\n",
       "0        115910.26                  128.0    4.0\n",
       "1         48718.17                  210.0    3.0\n",
       "2         28977.56                   58.0    2.0\n",
       "3         36932.27                   79.0    3.0\n",
       "4         83903.51                  111.0    3.0"
      ]
     },
     "execution_count": 2,
     "metadata": {},
     "output_type": "execute_result"
    }
   ],
   "source": [
    "import pandas as pd\n",
    "\n",
    "data = {\n",
    "    \"price_aprox_usd\": [115910.26, 48718.17, 28977.56, 36932.27, 83903.51],\n",
    "    \"surface_covered_in_m2\": [128.0, 210.0, 58.0, 79.0, 111.0],\n",
    "    \"rooms\": [4.0, 3.0, 2.0, 3.0, 3.0],\n",
    "}\n",
    "\n",
    "df_houses = pd.DataFrame(data)\n",
    "\n",
    "df_houses"
   ]
  },
  {
   "cell_type": "code",
   "execution_count": null,
   "id": "b24b4a7a",
   "metadata": {},
   "outputs": [],
   "source": []
  }
 ],
 "metadata": {
  "kernelspec": {
   "display_name": "Python 3 (ipykernel)",
   "language": "python",
   "name": "python3"
  },
  "language_info": {
   "codemirror_mode": {
    "name": "ipython",
    "version": 3
   },
   "file_extension": ".py",
   "mimetype": "text/x-python",
   "name": "python",
   "nbconvert_exporter": "python",
   "pygments_lexer": "ipython3",
   "version": "3.9.12"
  }
 },
 "nbformat": 4,
 "nbformat_minor": 5
}
